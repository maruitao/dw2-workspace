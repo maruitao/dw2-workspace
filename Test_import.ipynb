{
 "cells": [
  {
   "cell_type": "code",
   "execution_count": 3,
   "metadata": {},
   "outputs": [
    {
     "name": "stdout",
     "output_type": "stream",
     "text": [
      "<employee.test object at 0x7efceff9da58>\n",
      "<class 'employee.test'>\n"
     ]
    }
   ],
   "source": [
    "# -*- coding:utf-8 -*-\n",
    "import sys \n",
    "import employee as em\n",
    "import test01\n",
    "import os\n",
    "# from Employee import displayCount,displayEmployee\n",
    "# sys.path.append(\"/opt/cloudera/parcels/Anaconda-4.3.1/share/work-space/employee.py\")\n",
    "a = em.test()\n",
    "a.prt()\n",
    "# for i in sys.path :\n",
    "#     print (i)\n"
   ]
  },
  {
   "cell_type": "code",
   "execution_count": 12,
   "metadata": {
    "collapsed": true
   },
   "outputs": [],
   "source": [
    "module_path = os.path.abspath(os.path.join('mrt_workspace/'))  #  ..为父路径   现在导入当前路径下mrt-workspace路径到ipython解释器\n",
    "# 临时导入  重启内核则需重新编译才能生效\n",
    "if module_path not in sys.path:\n",
    "    sys.path.append(module_path)\n",
    "# for i in sys.path :\n",
    "#     print (i)\n"
   ]
  },
  {
   "cell_type": "code",
   "execution_count": 13,
   "metadata": {
    "collapsed": true
   },
   "outputs": [
    {
     "name": "stdout",
     "output_type": "stream",
     "text": [
      "1\n",
      "1\n",
      "3\n",
      "4\n",
      "5\n",
      "6\n",
      "7\n",
      "8\n",
      "9\n"
     ]
    }
   ],
   "source": [
    "import text_low  #导入模块名，导入模块名前要保证模块所在的路径被添加  \n",
    "text_low.print_list(text_low.li)   #"
   ]
  },
  {
   "cell_type": "code",
   "execution_count": 12,
   "metadata": {
    "collapsed": true
   },
   "outputs": [],
   "source": [
    "# test01.print_a_list()\n",
    "# sys.path.append(\"/opt/cloudera/parcels/Anaconda-4.3.1/share/work-space/employee.py\")\n",
    "# import os\n",
    "# module_path = os.path.abspath(os.path.join('..'))\n",
    "# if module_path not in sys.path:\n",
    "#     sys.path.append(module_path)\n",
    "\n"
   ]
  },
  {
   "cell_type": "code",
   "execution_count": 23,
   "metadata": {},
   "outputs": [
    {
     "name": "stdout",
     "output_type": "stream",
     "text": [
      "\n",
      "/opt/cloudera/parcels/Anaconda-4.3.1/envs/python35/lib/python35.zip\n",
      "/opt/cloudera/parcels/Anaconda-4.3.1/envs/python35/lib/python3.5\n",
      "/opt/cloudera/parcels/Anaconda-4.3.1/envs/python35/lib/python3.5/plat-linux\n",
      "/opt/cloudera/parcels/Anaconda-4.3.1/envs/python35/lib/python3.5/lib-dynload\n",
      "/opt/cloudera/parcels/Anaconda-4.3.1/envs/python35/lib/python3.5/site-packages\n",
      "/opt/cloudera/parcels/Anaconda-4.3.1/envs/python35/lib/python3.5/site-packages/IPython/extensions\n",
      "/root/.ipython\n",
      "/opt/cloudera/parcels/Anaconda-4.3.1/share/work-space/employee.py\n",
      "/opt/cloudera/parcels/Anaconda-4.3.1/share\n"
     ]
    }
   ],
   "source": [
    "for i in sys.path :\n",
    "    print (i )"
   ]
  },
  {
   "cell_type": "code",
   "execution_count": 13,
   "metadata": {},
   "outputs": [
    {
     "name": "stdout",
     "output_type": "stream",
     "text": [
      "1\n",
      "1\n",
      "3\n",
      "4\n",
      "5\n",
      "6\n",
      "7\n",
      "8\n",
      "9\n"
     ]
    }
   ],
   "source": [
    "# for i in sys.path :\n",
    "#     print (i )\n",
    "# # test01.print_a_list()\n",
    "\n",
    "# import text_low\n",
    "# text_low.print_list(text_low.li)"
   ]
  }
 ],
 "metadata": {
  "kernelspec": {
   "display_name": "Python 3.5.4",
   "language": "python",
   "name": "python3"
  },
  "language_info": {
   "codemirror_mode": {
    "name": "ipython",
    "version": 3
   },
   "file_extension": ".py",
   "mimetype": "text/x-python",
   "name": "python",
   "nbconvert_exporter": "python",
   "pygments_lexer": "ipython3",
   "version": "3.5.4"
  }
 },
 "nbformat": 4,
 "nbformat_minor": 2
}
