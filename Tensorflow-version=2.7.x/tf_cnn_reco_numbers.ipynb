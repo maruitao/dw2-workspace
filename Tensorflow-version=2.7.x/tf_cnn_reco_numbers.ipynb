{
 "cells": [
  {
   "cell_type": "code",
   "execution_count": 1,
   "metadata": {
    "collapsed": true
   },
   "outputs": [],
   "source": [
    "# coding=utf-8  \n",
    "  \n",
    "import tensorflow as tf  \n",
    "from tensorflow.examples.tutorials.mnist import input_data  "
   ]
  },
  {
   "cell_type": "code",
   "execution_count": 2,
   "metadata": {
    "collapsed": true
   },
   "outputs": [],
   "source": [
    "def weight_variable(shape):  \n",
    "    initial = tf.truncated_normal(shape,stddev=0.1)  \n",
    "    return tf.Variable(initial)  \n",
    "def bias_variable(shape):  \n",
    "    initial = tf.constant(0.1,shape=shape)  \n",
    "    # 0.1是常数的值,shape是数据格式  \n",
    "    return tf.Variable(initial)  "
   ]
  },
  {
   "cell_type": "code",
   "execution_count": 3,
   "metadata": {
    "collapsed": true
   },
   "outputs": [],
   "source": [
    "def conv2d(x,W):  \n",
    "    #conv2d(input, filter, strides, padding, use_cudnn_on_gpu=None,data_format=None, name=None)  \n",
    "    return tf.nn.conv2d(x,W,strides=[1,1,1,1],padding=\"SAME\") #由于采用的是SAME,所以用5x5卷积以后还是28X28 "
   ]
  },
  {
   "cell_type": "code",
   "execution_count": 4,
   "metadata": {
    "collapsed": true
   },
   "outputs": [],
   "source": [
    "def max_pool_2x2(x):  \n",
    "    return tf.nn.max_pool(x,ksize=[1,2,2,1],strides=[1,2,2,1],padding=\"SAME\")  "
   ]
  },
  {
   "cell_type": "code",
   "execution_count": 5,
   "metadata": {
    "collapsed": true
   },
   "outputs": [],
   "source": [
    "x = tf.placeholder(\"float\",[None,784])  \n",
    "y_ = tf.placeholder(\"float\",[None,10])  \n",
    "W = tf.Variable(tf.zeros([784,10]))  \n",
    "b = tf.Variable(tf.zeros([10]))  "
   ]
  },
  {
   "cell_type": "code",
   "execution_count": 6,
   "metadata": {
    "collapsed": true
   },
   "outputs": [],
   "source": [
    "W_conv1 = weight_variable([5,5,1,32])  \n",
    "b_conv1 = bias_variable([32])  \n",
    "x_img = tf.reshape(x,[-1,28,28,1])  \n",
    "  \n",
    "h_conv1 = tf.nn.relu(conv2d(x_img,W_conv1)+b_conv1)  \n",
    "h_pool1 = max_pool_2x2(h_conv1)  "
   ]
  },
  {
   "cell_type": "code",
   "execution_count": 7,
   "metadata": {
    "collapsed": true
   },
   "outputs": [],
   "source": [
    "W_conv2 = weight_variable([5,5,32,64]) #理解此处为什么是32  \n",
    "b_conv2 = bias_variable([64])  \n",
    "  \n",
    "h_conv2 = tf.nn.relu(conv2d(h_pool1,W_conv2)+b_conv2)  \n",
    "h_pool2 = max_pool_2x2(h_conv2)  "
   ]
  },
  {
   "cell_type": "code",
   "execution_count": 8,
   "metadata": {
    "collapsed": true
   },
   "outputs": [],
   "source": [
    "W_fc1 = weight_variable([7*7*64,1024])  \n",
    "b_fc1 = bias_variable([1024])  \n",
    "  \n",
    "h_pool2_flat = tf.reshape(h_pool2,[-1,7*7*64])  \n",
    "h_fc1 = tf.nn.relu(tf.matmul(h_pool2_flat,W_fc1) + b_fc1)  "
   ]
  },
  {
   "cell_type": "code",
   "execution_count": 9,
   "metadata": {
    "collapsed": true
   },
   "outputs": [],
   "source": [
    "keep_prob = tf.placeholder(\"float\")  \n",
    "h_fc1_drop = tf.nn.dropout(h_fc1,keep_prob)#?  "
   ]
  },
  {
   "cell_type": "code",
   "execution_count": 10,
   "metadata": {
    "collapsed": true
   },
   "outputs": [],
   "source": [
    "W_fc2 = weight_variable([1024,10])  \n",
    "b_fc2 = bias_variable([10])  \n",
    "y_conv = tf.nn.softmax(tf.matmul(h_fc1_drop,W_fc2)+b_fc2)  "
   ]
  },
  {
   "cell_type": "code",
   "execution_count": null,
   "metadata": {
    "collapsed": true
   },
   "outputs": [],
   "source": [
    "import inp"
   ]
  },
  {
   "cell_type": "code",
   "execution_count": 11,
   "metadata": {},
   "outputs": [
    {
     "ename": "NameError",
     "evalue": "name 'mnist' is not defined",
     "output_type": "error",
     "traceback": [
      "\u001b[0;31m---------------------------------------------------------------------------\u001b[0m",
      "\u001b[0;31mNameError\u001b[0m                                 Traceback (most recent call last)",
      "\u001b[0;32m<ipython-input-11-8ed461291a55>\u001b[0m in \u001b[0;36m<module>\u001b[0;34m()\u001b[0m\n\u001b[1;32m     10\u001b[0m \u001b[0msess\u001b[0m\u001b[0;34m.\u001b[0m\u001b[0mrun\u001b[0m\u001b[0;34m(\u001b[0m\u001b[0mtf\u001b[0m\u001b[0;34m.\u001b[0m\u001b[0mglobal_variables_initializer\u001b[0m\u001b[0;34m(\u001b[0m\u001b[0;34m)\u001b[0m\u001b[0;34m)\u001b[0m\u001b[0;34m\u001b[0m\u001b[0m\n\u001b[1;32m     11\u001b[0m \u001b[0;32mfor\u001b[0m \u001b[0mi\u001b[0m \u001b[0;32min\u001b[0m \u001b[0mrange\u001b[0m\u001b[0;34m(\u001b[0m\u001b[0;36m20000\u001b[0m\u001b[0;34m)\u001b[0m\u001b[0;34m:\u001b[0m\u001b[0;34m\u001b[0m\u001b[0m\n\u001b[0;32m---> 12\u001b[0;31m     \u001b[0mbatch\u001b[0m \u001b[0;34m=\u001b[0m \u001b[0mmnist\u001b[0m\u001b[0;34m.\u001b[0m\u001b[0mtrain\u001b[0m\u001b[0;34m.\u001b[0m\u001b[0mnext_batch\u001b[0m\u001b[0;34m(\u001b[0m\u001b[0;36m50\u001b[0m\u001b[0;34m)\u001b[0m\u001b[0;34m\u001b[0m\u001b[0m\n\u001b[0m\u001b[1;32m     13\u001b[0m     \u001b[0;32mif\u001b[0m \u001b[0mi\u001b[0m \u001b[0;34m%\u001b[0m \u001b[0;36m100\u001b[0m \u001b[0;34m==\u001b[0m \u001b[0;36m0\u001b[0m\u001b[0;34m:\u001b[0m\u001b[0;34m\u001b[0m\u001b[0m\n\u001b[1;32m     14\u001b[0m         train_accuracy = accuracy.eval(feed_dict={  \n",
      "\u001b[0;31mNameError\u001b[0m: name 'mnist' is not defined"
     ]
    }
   ],
   "source": [
    "\n",
    "cross_entropy = -tf.reduce_sum(y_*tf.log(y_conv))  \n",
    "  \n",
    "train_step = tf.train.AdamOptimizer(1e-4).minimize(cross_entropy)  \n",
    "  \n",
    "correct_prediction = tf.equal(tf.argmax(y_conv,1), tf.argmax(y_,1))  \n",
    "  \n",
    "accuracy = tf.reduce_mean(tf.cast(correct_prediction, \"float\"))  \n",
    "sess = tf.Session()\n",
    "sess.run(tf.global_variables_initializer())  \n",
    "for i in range(20000):  \n",
    "    batch = mnist.train.next_batch(50)  \n",
    "    if i % 100 == 0:  \n",
    "        train_accuracy = accuracy.eval(feed_dict={  \n",
    "            x:batch[0], y_:batch[1], keep_prob:1.0})  \n",
    "        print (\"step %d, training accuracy %g\" % (i, train_accuracy))  \n",
    "        train_step.run(feed_dict={x: batch[0], y_: batch[1], keep_prob:0.5})  \n",
    "  \n",
    "\n",
    "print (\"test accuracy %g\" % accuracy.eval(feed_dict={x: mnist.test.images, y_: mnist.test.labels, keep_prob:1.0}))  "
   ]
  },
  {
   "cell_type": "code",
   "execution_count": null,
   "metadata": {
    "collapsed": true
   },
   "outputs": [],
   "source": []
  }
 ],
 "metadata": {
  "kernelspec": {
   "display_name": "Python 3.5.4",
   "language": "python",
   "name": "python3"
  },
  "language_info": {
   "codemirror_mode": {
    "name": "ipython",
    "version": 3
   },
   "file_extension": ".py",
   "mimetype": "text/x-python",
   "name": "python",
   "nbconvert_exporter": "python",
   "pygments_lexer": "ipython3",
   "version": "3.5.4"
  }
 },
 "nbformat": 4,
 "nbformat_minor": 2
}
