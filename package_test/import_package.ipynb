{
 "cells": [
  {
   "cell_type": "code",
   "execution_count": 1,
   "metadata": {},
   "outputs": [],
   "source": [
    "import os\n",
    "import sys\n",
    "\n",
    "\n",
    "package_dir = os.path.abspath(os.path.join('my-package/'))\n",
    "if package_dir not in sys.path:\n",
    "    sys.path.append(package_dir)\n"
   ]
  },
  {
   "cell_type": "code",
   "execution_count": 2,
   "metadata": {
    "scrolled": true
   },
   "outputs": [
    {
     "name": "stdout",
     "output_type": "stream",
     "text": [
      "\n",
      "/opt/cloudera/parcels/Anaconda-4.3.1/envs/python35/lib/python35.zip\n",
      "/opt/cloudera/parcels/Anaconda-4.3.1/envs/python35/lib/python3.5\n",
      "/opt/cloudera/parcels/Anaconda-4.3.1/envs/python35/lib/python3.5/plat-linux\n",
      "/opt/cloudera/parcels/Anaconda-4.3.1/envs/python35/lib/python3.5/lib-dynload\n",
      "/opt/cloudera/parcels/Anaconda-4.3.1/envs/python35/lib/python3.5/site-packages\n",
      "/opt/cloudera/parcels/Anaconda-4.3.1/envs/python35/lib/python3.5/site-packages/IPython/extensions\n",
      "/root/.ipython\n",
      "/opt/cloudera/parcels/Anaconda-4.3.1/share/work-space/package_test/my-package\n"
     ]
    }
   ],
   "source": [
    "for i in sys.path:\n",
    "    print (i)"
   ]
  },
  {
   "cell_type": "code",
   "execution_count": 3,
   "metadata": {},
   "outputs": [
    {
     "name": "stdout",
     "output_type": "stream",
     "text": [
      "test01 print this line ,then print a list\n",
      "[1, 2, 3, 4, 5, 6, 7, 8, 9]\n"
     ]
    }
   ],
   "source": [
    "import test01\n",
    "test01.print_a_list()\n"
   ]
  },
  {
   "cell_type": "code",
   "execution_count": 4,
   "metadata": {},
   "outputs": [
    {
     "name": "stdout",
     "output_type": "stream",
     "text": [
      "<atest.test object at 0x7f1b604c3198>\n",
      "<class 'atest.test'>\n"
     ]
    }
   ],
   "source": [
    "import atest as at\n",
    "a = at.test()\n",
    "a.prtself()"
   ]
  },
  {
   "cell_type": "code",
   "execution_count": 5,
   "metadata": {},
   "outputs": [
    {
     "name": "stdout",
     "output_type": "stream",
     "text": [
      "atest  print  this line\n"
     ]
    }
   ],
   "source": [
    "a.prtlist()"
   ]
  },
  {
   "cell_type": "code",
   "execution_count": null,
   "metadata": {
    "collapsed": true
   },
   "outputs": [],
   "source": []
  }
 ],
 "metadata": {
  "kernelspec": {
   "display_name": "Python 3.5.4",
   "language": "python",
   "name": "python3"
  },
  "language_info": {
   "codemirror_mode": {
    "name": "ipython",
    "version": 3
   },
   "file_extension": ".py",
   "mimetype": "text/x-python",
   "name": "python",
   "nbconvert_exporter": "python",
   "pygments_lexer": "ipython3",
   "version": "3.5.4"
  }
 },
 "nbformat": 4,
 "nbformat_minor": 2
}
