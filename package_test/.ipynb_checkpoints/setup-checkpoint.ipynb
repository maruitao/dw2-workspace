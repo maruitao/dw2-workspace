{
 "cells": [
  {
   "cell_type": "code",
   "execution_count": 1,
   "metadata": {
    "collapsed": true
   },
   "outputs": [],
   "source": [
    "# coding:utf-8\n",
    "from setuptools import setup, find_packages\n",
    "\n",
    "setup(\n",
    "    name = 'eggtest-mrt',\n",
    "    version = '0.1',\n",
    "    package = find_packages(),\n",
    "    zip_safe = False ,\n",
    "    \n",
    "    description = 'egg test demo by mrt',\n",
    "    long_description = 'egg test long descriptin ',\n",
    "    author = 'Andre Ma',\n",
    "    author_email = 'ma.ruitao@cesgroup.com.cn',\n",
    "    \n",
    "    license = 'GPL',\n",
    "    keywords = ('test', 'egg'),\n",
    "    platforms = 'CentOS7.2' ,\n",
    "    url = 'www.cesgroup.com.cn' ,\n",
    ")\n",
    "\"\"\"\n",
    "以下内容是帮助文档：\n",
    "python setup.py --help-commands\n",
    "\n",
    "\n",
    "\n",
    "\"\"\"\n"
   ]
  },
  {
   "cell_type": "code",
   "execution_count": 8,
   "metadata": {
    "collapsed": true
   },
   "outputs": [
    {
     "name": "stdout",
     "output_type": "stream",
     "text": [
      "Standard commands:\n",
      "  build             build everything needed to install\n",
      "  build_py          \"build\" pure Python modules (copy to build directory)\n",
      "  build_ext         build C/C++ extensions (compile/link to build directory)\n",
      "  build_clib        build C/C++ libraries used by Python extensions\n",
      "  build_scripts     \"build\" scripts (copy and fixup #! line)\n",
      "  clean             clean up temporary files from 'build' command\n",
      "  install           install everything from build directory\n",
      "  install_lib       install all Python modules (extensions and pure Python)\n",
      "  install_headers   install C/C++ header files\n",
      "  install_scripts   install scripts (Python or otherwise)\n",
      "  install_data      install data files\n",
      "  sdist             create a source distribution (tarball, zip file, etc.)\n",
      "  register          register the distribution with the Python package index\n",
      "  bdist             create a built (binary) distribution\n",
      "  bdist_dumb        create a \"dumb\" built distribution\n",
      "  bdist_rpm         create an RPM distribution\n",
      "  bdist_wininst     create an executable installer for MS Windows\n",
      "  check             perform some checks on the package\n",
      "  upload            upload binary package to PyPI\n",
      "\n",
      "Extra commands:\n",
      "  saveopts          save supplied options to setup.cfg or other config file\n",
      "  bdist_wheel       create a wheel distribution\n",
      "  bdist_egg         create an \"egg\" distribution\n",
      "  alias             define a shortcut to invoke one or more commands\n",
      "  easy_install      Find/get/install Python packages\n",
      "  develop           install package in 'development mode'\n",
      "  rotate            delete older distributions, keeping N newest files\n",
      "  upload_docs       Upload documentation to PyPI\n",
      "  install_egg_info  Install an .egg-info directory for the package\n",
      "  test              run unit tests after in-place build\n",
      "  egg_info          create a distribution's .egg-info directory\n",
      "  setopt            set an option in setup.cfg or another config file\n",
      "\n",
      "usage: setup.py [global_opts] cmd1 [cmd1_opts] [cmd2 [cmd2_opts] ...]\n",
      "   or: setup.py --help [cmd1 cmd2 ...]\n",
      "   or: setup.py --help-commands\n",
      "   or: setup.py cmd --help\n",
      "\n"
     ]
    },
    {
     "name": "stderr",
     "output_type": "stream",
     "text": [
      "/opt/cloudera/parcels/Anaconda-4.3.1/envs/python35/lib/python3.5/distutils/dist.py:261: UserWarning: Unknown distribution option: 'package'\n",
      "  warnings.warn(msg)\n"
     ]
    }
   ],
   "source": [
    "%%python setup.py --help-commands\n",
    "# %%python3 setup.py bdist_egg    \n",
    "# %%python3 setup.py sdist \n",
    "#上述魔法命令是用python3解释器 运行setup.py脚本  编译生成egg包 \n",
    "# 第一行支持 easy_install安装   第二行支持 pip安装 \n",
    "\n",
    "\n",
    "\n",
    "\n",
    "# %tb  #详细追踪异常信息"
   ]
  },
  {
   "cell_type": "code",
   "execution_count": 8,
   "metadata": {},
   "outputs": [
    {
     "name": "stderr",
     "output_type": "stream",
     "text": [
      "/opt/cloudera/parcels/Anaconda-4.3.1/envs/python35/lib/python3.5/distutils/dist.py:261: UserWarning: Unknown distribution option: 'package'\n",
      "  warnings.warn(msg)\n",
      "Traceback (most recent call last):\n",
      "  File \"setup.py\", line 26, in <module>\n",
      "    url = 'www.cesgroup.com.cn' \n",
      "  File \"/opt/cloudera/parcels/Anaconda-4.3.1/envs/python35/lib/python3.5/distutils/core.py\", line 148, in setup\n",
      "    dist.run_commands()\n",
      "  File \"/opt/cloudera/parcels/Anaconda-4.3.1/envs/python35/lib/python3.5/distutils/dist.py\", line 955, in run_commands\n",
      "    self.run_command(cmd)\n",
      "  File \"/opt/cloudera/parcels/Anaconda-4.3.1/envs/python35/lib/python3.5/distutils/dist.py\", line 973, in run_command\n",
      "    cmd_obj.ensure_finalized()\n",
      "  File \"/opt/cloudera/parcels/Anaconda-4.3.1/envs/python35/lib/python3.5/distutils/cmd.py\", line 107, in ensure_finalized\n",
      "    self.finalize_options()\n",
      "  File \"/opt/cloudera/parcels/Anaconda-4.3.1/envs/python35/lib/python3.5/site-packages/setuptools/command/bdist_egg.py\", line 97, in finalize_options\n",
      "    ei_cmd = self.ei_cmd = self.get_finalized_command(\"egg_info\")\n",
      "  File \"/opt/cloudera/parcels/Anaconda-4.3.1/envs/python35/lib/python3.5/distutils/cmd.py\", line 299, in get_finalized_command\n",
      "    cmd_obj.ensure_finalized()\n",
      "  File \"/opt/cloudera/parcels/Anaconda-4.3.1/envs/python35/lib/python3.5/distutils/cmd.py\", line 107, in ensure_finalized\n",
      "    self.finalize_options()\n",
      "  File \"/opt/cloudera/parcels/Anaconda-4.3.1/envs/python35/lib/python3.5/site-packages/setuptools/command/egg_info.py\", line 195, in finalize_options\n",
      "    self.egg_base = (dirs or {}).get('', os.curdir)\n",
      "AttributeError: 'set' object has no attribute 'get'\n"
     ]
    }
   ],
   "source": [
    "%%python3 setup.py -q bdist_egg\n",
    "\n",
    "%tb\n"
   ]
  },
  {
   "cell_type": "code",
   "execution_count": 2,
   "metadata": {},
   "outputs": [
    {
     "name": "stdout",
     "output_type": "stream",
     "text": [
      "\u001b[0m\u001b[01;34mbuild\u001b[0m/  \u001b[01;34meggtest_mrt.egg-info\u001b[0m/  setup.ipynb  test01.py\r\n",
      "\u001b[01;34mdist\u001b[0m/   employee.py            setup.py\r\n"
     ]
    }
   ],
   "source": [
    "ls -F"
   ]
  },
  {
   "cell_type": "code",
   "execution_count": 1,
   "metadata": {},
   "outputs": [
    {
     "ename": "SyntaxError",
     "evalue": "invalid syntax (<ipython-input-1-a2e152451fd3>, line 1)",
     "output_type": "error",
     "traceback": [
      "\u001b[0;36m  File \u001b[0;32m\"<ipython-input-1-a2e152451fd3>\"\u001b[0;36m, line \u001b[0;32m1\u001b[0m\n\u001b[0;31m    python setup.py bdist_egg\u001b[0m\n\u001b[0m               ^\u001b[0m\n\u001b[0;31mSyntaxError\u001b[0m\u001b[0;31m:\u001b[0m invalid syntax\n"
     ]
    }
   ],
   "source": [
    "\n"
   ]
  }
 ],
 "metadata": {
  "kernelspec": {
   "display_name": "Python 3.5.4",
   "language": "python",
   "name": "python3"
  },
  "language_info": {
   "codemirror_mode": {
    "name": "ipython",
    "version": 3
   },
   "file_extension": ".py",
   "mimetype": "text/x-python",
   "name": "python",
   "nbconvert_exporter": "python",
   "pygments_lexer": "ipython3",
   "version": "3.5.4"
  }
 },
 "nbformat": 4,
 "nbformat_minor": 2
}
