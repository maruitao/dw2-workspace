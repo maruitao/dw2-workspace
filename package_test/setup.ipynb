{
 "cells": [
  {
   "cell_type": "code",
   "execution_count": 1,
   "metadata": {},
   "outputs": [
    {
     "name": "stderr",
     "output_type": "stream",
     "text": [
      "/opt/cloudera/parcels/Anaconda-4.3.1/envs/python35/lib/python3.5/distutils/dist.py:261: UserWarning: Unknown distribution option: 'package'\n",
      "  warnings.warn(msg)\n"
     ]
    },
    {
     "ename": "SystemExit",
     "evalue": "usage: ipykernel_launcher.py [global_opts] cmd1 [cmd1_opts] [cmd2 [cmd2_opts] ...]\n   or: ipykernel_launcher.py --help [cmd1 cmd2 ...]\n   or: ipykernel_launcher.py --help-commands\n   or: ipykernel_launcher.py cmd --help\n\nerror: option -f not recognized",
     "output_type": "error",
     "traceback": [
      "An exception has occurred, use %tb to see the full traceback.\n",
      "\u001b[0;31mSystemExit\u001b[0m\u001b[0;31m:\u001b[0m usage: ipykernel_launcher.py [global_opts] cmd1 [cmd1_opts] [cmd2 [cmd2_opts] ...]\n   or: ipykernel_launcher.py --help [cmd1 cmd2 ...]\n   or: ipykernel_launcher.py --help-commands\n   or: ipykernel_launcher.py cmd --help\n\nerror: option -f not recognized\n"
     ]
    },
    {
     "name": "stderr",
     "output_type": "stream",
     "text": [
      "/opt/cloudera/parcels/Anaconda-4.3.1/envs/python35/lib/python3.5/site-packages/IPython/core/interactiveshell.py:2870: UserWarning: To exit: use 'exit', 'quit', or Ctrl-D.\n",
      "  warn(\"To exit: use 'exit', 'quit', or Ctrl-D.\", stacklevel=1)\n"
     ]
    }
   ],
   "source": [
    "# coding:utf-8\n",
    "from setuptools import setup, find_packages\n",
    "\n",
    "setup(\n",
    "    name = 'eggtest-mrt',\n",
    "    version = '0.1',\n",
    "    package = find_packages(),\n",
    "    zip_safe = False ,\n",
    "    \n",
    "    description = 'egg test demo by mrt',\n",
    "    long_description = 'egg test long descriptin ',\n",
    "    author = 'Andre Ma',\n",
    "    author_email = 'ma.ruitao@cesgroup.com.cn',\n",
    "    \n",
    "    license = 'GPL',\n",
    "    keywords = ('test', 'egg'),\n",
    "    platforms = 'CentOS7.2' ,\n",
    "    url = '' ,\n",
    ")\n",
    "\"\"\"\n",
    "以下内容是帮助文档：\n",
    "python setup.py --help-commands\n",
    "\n",
    "\n",
    "\n",
    "\"\"\"\n"
   ]
  },
  {
   "cell_type": "code",
   "execution_count": 6,
   "metadata": {},
   "outputs": [
    {
     "name": "stdout",
     "output_type": "stream",
     "text": [
      "running bdist_egg\n",
      "running egg_info\n",
      "writing dependency_links to eggtest_mrt.egg-info/dependency_links.txt\n",
      "writing top-level names to eggtest_mrt.egg-info/top_level.txt\n",
      "writing eggtest_mrt.egg-info/PKG-INFO\n",
      "reading manifest file 'eggtest_mrt.egg-info/SOURCES.txt'\n",
      "writing manifest file 'eggtest_mrt.egg-info/SOURCES.txt'\n",
      "installing library code to build/bdist.linux-x86_64/egg\n",
      "running install_lib\n",
      "creating build/bdist.linux-x86_64/egg\n",
      "creating build/bdist.linux-x86_64/egg/EGG-INFO\n",
      "copying eggtest_mrt.egg-info/PKG-INFO -> build/bdist.linux-x86_64/egg/EGG-INFO\n",
      "copying eggtest_mrt.egg-info/SOURCES.txt -> build/bdist.linux-x86_64/egg/EGG-INFO\n",
      "copying eggtest_mrt.egg-info/dependency_links.txt -> build/bdist.linux-x86_64/egg/EGG-INFO\n",
      "copying eggtest_mrt.egg-info/not-zip-safe -> build/bdist.linux-x86_64/egg/EGG-INFO\n",
      "copying eggtest_mrt.egg-info/top_level.txt -> build/bdist.linux-x86_64/egg/EGG-INFO\n",
      "creating 'dist/eggtest_mrt-0.1-py3.5.egg' and adding 'build/bdist.linux-x86_64/egg' to it\n",
      "removing 'build/bdist.linux-x86_64/egg' (and everything under it)\n"
     ]
    },
    {
     "name": "stderr",
     "output_type": "stream",
     "text": [
      "/opt/cloudera/parcels/Anaconda-4.3.1/envs/python35/lib/python3.5/distutils/dist.py:261: UserWarning: Unknown distribution option: 'package'\n",
      "  warnings.warn(msg)\n",
      "warning: install_lib: 'build/lib' does not exist -- no Python modules to install\n",
      "\n"
     ]
    }
   ],
   "source": [
    "%%python3 setup.py bdist_egg    \n",
    "# %%python3 setup.py sdist \n",
    "#上述魔法命令是用python3解释器 运行setup.py脚本  编译生成egg包 \n",
    "# 第一行支持 easy_install安装   第二行支持 pip安装 \n",
    "\n",
    "# %%python setup.py --help-commands\n",
    "\n",
    "\n",
    "%tb  #详细追踪异常信息"
   ]
  },
  {
   "cell_type": "code",
   "execution_count": 8,
   "metadata": {},
   "outputs": [
    {
     "name": "stderr",
     "output_type": "stream",
     "text": [
      "/opt/cloudera/parcels/Anaconda-4.3.1/envs/python35/lib/python3.5/distutils/dist.py:261: UserWarning: Unknown distribution option: 'package'\n",
      "  warnings.warn(msg)\n",
      "Traceback (most recent call last):\n",
      "  File \"setup.py\", line 26, in <module>\n",
      "    url = 'www.cesgroup.com.cn' \n",
      "  File \"/opt/cloudera/parcels/Anaconda-4.3.1/envs/python35/lib/python3.5/distutils/core.py\", line 148, in setup\n",
      "    dist.run_commands()\n",
      "  File \"/opt/cloudera/parcels/Anaconda-4.3.1/envs/python35/lib/python3.5/distutils/dist.py\", line 955, in run_commands\n",
      "    self.run_command(cmd)\n",
      "  File \"/opt/cloudera/parcels/Anaconda-4.3.1/envs/python35/lib/python3.5/distutils/dist.py\", line 973, in run_command\n",
      "    cmd_obj.ensure_finalized()\n",
      "  File \"/opt/cloudera/parcels/Anaconda-4.3.1/envs/python35/lib/python3.5/distutils/cmd.py\", line 107, in ensure_finalized\n",
      "    self.finalize_options()\n",
      "  File \"/opt/cloudera/parcels/Anaconda-4.3.1/envs/python35/lib/python3.5/site-packages/setuptools/command/bdist_egg.py\", line 97, in finalize_options\n",
      "    ei_cmd = self.ei_cmd = self.get_finalized_command(\"egg_info\")\n",
      "  File \"/opt/cloudera/parcels/Anaconda-4.3.1/envs/python35/lib/python3.5/distutils/cmd.py\", line 299, in get_finalized_command\n",
      "    cmd_obj.ensure_finalized()\n",
      "  File \"/opt/cloudera/parcels/Anaconda-4.3.1/envs/python35/lib/python3.5/distutils/cmd.py\", line 107, in ensure_finalized\n",
      "    self.finalize_options()\n",
      "  File \"/opt/cloudera/parcels/Anaconda-4.3.1/envs/python35/lib/python3.5/site-packages/setuptools/command/egg_info.py\", line 195, in finalize_options\n",
      "    self.egg_base = (dirs or {}).get('', os.curdir)\n",
      "AttributeError: 'set' object has no attribute 'get'\n"
     ]
    }
   ],
   "source": [
    "# %%python3 setup.py -q bdist_egg\n",
    "\n"
   ]
  },
  {
   "cell_type": "code",
   "execution_count": 2,
   "metadata": {},
   "outputs": [
    {
     "name": "stdout",
     "output_type": "stream",
     "text": [
      "\u001b[0m\u001b[01;34mbuild\u001b[0m/  \u001b[01;34meggtest_mrt.egg-info\u001b[0m/  setup.ipynb  test01.py\r\n",
      "\u001b[01;34mdist\u001b[0m/   employee.py            setup.py\r\n"
     ]
    }
   ],
   "source": [
    "ls -F"
   ]
  },
  {
   "cell_type": "code",
   "execution_count": 1,
   "metadata": {},
   "outputs": [
    {
     "ename": "SyntaxError",
     "evalue": "invalid syntax (<ipython-input-1-a2e152451fd3>, line 1)",
     "output_type": "error",
     "traceback": [
      "\u001b[0;36m  File \u001b[0;32m\"<ipython-input-1-a2e152451fd3>\"\u001b[0;36m, line \u001b[0;32m1\u001b[0m\n\u001b[0;31m    python setup.py bdist_egg\u001b[0m\n\u001b[0m               ^\u001b[0m\n\u001b[0;31mSyntaxError\u001b[0m\u001b[0;31m:\u001b[0m invalid syntax\n"
     ]
    }
   ],
   "source": [
    "\n"
   ]
  }
 ],
 "metadata": {
  "kernelspec": {
   "display_name": "Python 3.5.4",
   "language": "python",
   "name": "python3"
  },
  "language_info": {
   "codemirror_mode": {
    "name": "ipython",
    "version": 3
   },
   "file_extension": ".py",
   "mimetype": "text/x-python",
   "name": "python",
   "nbconvert_exporter": "python",
   "pygments_lexer": "ipython3",
   "version": "3.5.4"
  }
 },
 "nbformat": 4,
 "nbformat_minor": 2
}
