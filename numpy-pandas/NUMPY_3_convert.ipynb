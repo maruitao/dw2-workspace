{
 "cells": [
  {
   "cell_type": "code",
   "execution_count": 14,
   "metadata": {
    "collapsed": true
   },
   "outputs": [],
   "source": [
    "# import sys\n",
    "# print (sys.getdefaultencoding()) # python3  默认编码utf-8\n",
    "\n",
    "import pandas as pd\n",
    "import numpy as np\n",
    "\n"
   ]
  },
  {
   "cell_type": "code",
   "execution_count": 15,
   "metadata": {},
   "outputs": [
    {
     "data": {
      "text/plain": [
       "array([[ 0.,  0.,  0.,  0.],\n",
       "       [ 0.,  0.,  0.,  0.],\n",
       "       [ 0.,  0.,  0.,  0.]])"
      ]
     },
     "execution_count": 15,
     "metadata": {},
     "output_type": "execute_result"
    }
   ],
   "source": [
    "np.zeros((3,4))  #数据维度 用元组指定"
   ]
  },
  {
   "cell_type": "code",
   "execution_count": 16,
   "metadata": {},
   "outputs": [
    {
     "data": {
      "text/plain": [
       "array([[[1, 1, 1, 1, 1],\n",
       "        [1, 1, 1, 1, 1],\n",
       "        [1, 1, 1, 1, 1]],\n",
       "\n",
       "       [[1, 1, 1, 1, 1],\n",
       "        [1, 1, 1, 1, 1],\n",
       "        [1, 1, 1, 1, 1]]], dtype=int32)"
      ]
     },
     "execution_count": 16,
     "metadata": {},
     "output_type": "execute_result"
    }
   ],
   "source": [
    "np.ones((2,3,5) , dtype=np.int32)"
   ]
  },
  {
   "cell_type": "code",
   "execution_count": 17,
   "metadata": {},
   "outputs": [
    {
     "data": {
      "text/plain": [
       "array([ 0.        ,  0.1923424 ,  0.38468481,  0.57702721,  0.76936962,\n",
       "        0.96171202,  1.15405442,  1.34639683,  1.53873923,  1.73108164,\n",
       "        1.92342404,  2.11576644,  2.30810885,  2.50045125,  2.69279366,\n",
       "        2.88513606,  3.07747847,  3.26982087,  3.46216327,  3.65450568,\n",
       "        3.84684808,  4.03919049,  4.23153289,  4.42387529,  4.6162177 ,\n",
       "        4.8085601 ,  5.00090251,  5.19324491,  5.38558731,  5.57792972,\n",
       "        5.77027212,  5.96261453,  6.15495693,  6.34729933,  6.53964174,\n",
       "        6.73198414,  6.92432655,  7.11666895,  7.30901136,  7.50135376,\n",
       "        7.69369616,  7.88603857,  8.07838097,  8.27072338,  8.46306578,\n",
       "        8.65540818,  8.84775059,  9.04009299,  9.2324354 ,  9.4247778 ])"
      ]
     },
     "execution_count": 17,
     "metadata": {},
     "output_type": "execute_result"
    }
   ],
   "source": [
    "np.linspace(0,3*3.1415926 , 50)"
   ]
  },
  {
   "cell_type": "code",
   "execution_count": 18,
   "metadata": {},
   "outputs": [
    {
     "name": "stdout",
     "output_type": "stream",
     "text": [
      "[12  2  3  3  4]\n",
      "[11  1  2  2  3]\n"
     ]
    }
   ],
   "source": [
    "a = np.array([12,3,5,6,8])\n",
    "b = np.arange( 5 )\n",
    "# print (a)\n",
    "# print (b)\n",
    "c = a - b\n",
    "print (c)\n",
    "c = c -1\n",
    "print (c)"
   ]
  },
  {
   "cell_type": "markdown",
   "metadata": {},
   "source": [
    "##### A * B  点积      A.dot(b) 矩阵乘积"
   ]
  },
  {
   "cell_type": "code",
   "execution_count": 19,
   "metadata": {
    "collapsed": true
   },
   "outputs": [],
   "source": [
    "# a.reshape(3,4)   a.reval()   a.shape = (5,6)  修改矩阵行列数\n",
    "#  np.vstack((a,b)) 把a  b 矩阵 按列拼接\n",
    "#  np.hstack((a,b))把a  b 矩阵 按行拼接"
   ]
  },
  {
   "cell_type": "code",
   "execution_count": 20,
   "metadata": {
    "collapsed": true
   },
   "outputs": [],
   "source": [
    "# np.hsplit( a  , 3) # 把array  a  按列平均切三刀  np.vsplit()\n",
    "#  赋值比较    =  a.view()  a.copy()"
   ]
  },
  {
   "cell_type": "code",
   "execution_count": 27,
   "metadata": {
    "collapsed": true
   },
   "outputs": [
    {
     "data": {
      "text/plain": [
       "array([[2],\n",
       "       [1]])"
      ]
     },
     "execution_count": 27,
     "metadata": {},
     "output_type": "execute_result"
    }
   ],
   "source": [
    "# 矩阵相乘\n",
    "a1 = [[3,2],[1,1],[1,4]]\n",
    "aa  = [[2 ],[1]]\n",
    "a2 = [[1],[1]]\n",
    "\n",
    "\n",
    "# np.dot(a1 , a2) # 矩阵相乘\n",
    "\n"
   ]
  },
  {
   "cell_type": "code",
   "execution_count": 40,
   "metadata": {},
   "outputs": [
    {
     "data": {
      "text/plain": [
       "{'pop': [1.5, 1.7, 3.6, 2.4, 2.9],\n",
       " 'state': ['Ohino', 'Ohino', 'Ohino', 'Nevada', 'Nevada'],\n",
       " 'year': [2000, 2001, 2002, 2001, 2002]}"
      ]
     },
     "execution_count": 40,
     "metadata": {},
     "output_type": "execute_result"
    }
   ],
   "source": [
    "#  dict to series\n",
    "data = { 'state': ['Ohino', 'Ohino', 'Ohino', 'Nevada', 'Nevada'],\n",
    "         'year': [2000, 2001, 2002, 2001, 2002],\n",
    "         'pop': [1.5, 1.7, 3.6, 2.4, 2.9]}  # type(data) 为 dict\n",
    "ser = pd.Series(data)\n",
    "# dict to dataframe，若不指定 columns，data 的 key 充当 DataFrame 的 columns\n",
    "df = pd.DataFrame(data)\n",
    "# df\n",
    "data"
   ]
  },
  {
   "cell_type": "code",
   "execution_count": 45,
   "metadata": {},
   "outputs": [
    {
     "data": {
      "text/plain": [
       "array([ 0.97216039,  0.56908086,  0.22248512,  0.81132861,  0.07816735,\n",
       "        0.38860058,  0.0705501 ,  0.40379506,  0.11275984,  0.38454672])"
      ]
     },
     "execution_count": 45,
     "metadata": {},
     "output_type": "execute_result"
    }
   ],
   "source": [
    "ss = np.random.rand(10)\n",
    "ss"
   ]
  }
 ],
 "metadata": {
  "kernelspec": {
   "display_name": "Python [conda root]",
   "language": "python",
   "name": "conda-root-py"
  },
  "language_info": {
   "codemirror_mode": {
    "name": "ipython",
    "version": 2
   },
   "file_extension": ".py",
   "mimetype": "text/x-python",
   "name": "python",
   "nbconvert_exporter": "python",
   "pygments_lexer": "ipython2",
   "version": "2.7.13"
  }
 },
 "nbformat": 4,
 "nbformat_minor": 2
}
