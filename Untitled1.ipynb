{
 "cells": [
  {
   "cell_type": "code",
   "execution_count": null,
   "metadata": {
    "collapsed": true
   },
   "outputs": [],
   "source": []
  }
 ],
 "metadata": {
  "kernelspec": {
   "display_name": "spark1.6.0 - Scala",
   "language": "scala",
   "name": "spark1.6.0_scala"
  }
 },
 "nbformat": 4,
 "nbformat_minor": 2
}
