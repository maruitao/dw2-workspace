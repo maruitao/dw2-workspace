{
 "cells": [
  {
   "cell_type": "code",
   "execution_count": 1,
   "metadata": {
    "collapsed": true
   },
   "outputs": [],
   "source": [
    "import numpy as np\n",
    "import h5py"
   ]
  },
  {
   "cell_type": "code",
   "execution_count": 13,
   "metadata": {},
   "outputs": [
    {
     "name": "stdout",
     "output_type": "stream",
     "text": [
      "list_classes\n",
      "train_set_x\n",
      "train_set_y\n"
     ]
    }
   ],
   "source": [
    "train_dataset = h5py.File('datasets/train_catvnoncat.h5', 'r')\n",
    "train_set_x_orig = np.array(train_dataset['train_set_x'][:]) \n",
    "\n",
    "\n",
    "# for i in train_dataset:\n",
    "#     print (i)\n",
    "# train_set_y_orig = np.array(train_dataset['train_set_y'][:])\n",
    "# train_set_y_orig"
   ]
  },
  {
   "cell_type": "code",
   "execution_count": 14,
   "metadata": {},
   "outputs": [
    {
     "data": {
      "text/plain": [
       "array([b'non-cat', b'cat'],\n",
       "      dtype='|S7')"
      ]
     },
     "execution_count": 14,
     "metadata": {},
     "output_type": "execute_result"
    }
   ],
   "source": [
    "classes = np.array(train_dataset['list_classes'][:])\n",
    "classes"
   ]
  },
  {
   "cell_type": "code",
   "execution_count": 52,
   "metadata": {},
   "outputs": [
    {
     "data": {
      "text/plain": [
       "(209,)"
      ]
     },
     "execution_count": 52,
     "metadata": {},
     "output_type": "execute_result"
    }
   ],
   "source": [
    "test_dataset = h5py.File('datasets/test_catvnoncat.h5','r')\n",
    "test_set_x_orig = np.array(test_dataset['test_set_x'][:])\n",
    "test_set_y_orig = np.array(test_dataset['test_set_y'][:])\n",
    "train_set_y_orig.shape"
   ]
  },
  {
   "cell_type": "code",
   "execution_count": 50,
   "metadata": {},
   "outputs": [
    {
     "data": {
      "text/plain": [
       "(12288, 209)"
      ]
     },
     "execution_count": 50,
     "metadata": {},
     "output_type": "execute_result"
    }
   ],
   "source": [
    "train_set_x_orig.shape[0]\n",
    "test_set_y_orig.shape[0]\n",
    "train_set_x_orig.shape\n",
    "# test_set_x_orig.shape\n",
    "X = train_set_x_orig.reshape(train_set_x_orig.shape[0], -1).T\n",
    "\n",
    "X.shape"
   ]
  },
  {
   "cell_type": "code",
   "execution_count": 29,
   "metadata": {
    "collapsed": true
   },
   "outputs": [
    {
     "data": {
      "text/plain": [
       "(2,)"
      ]
     },
     "execution_count": 29,
     "metadata": {},
     "output_type": "execute_result"
    }
   ],
   "source": [
    "b = np.array([0,1,5,67,7]) \n",
    "a = np.array([[0,1,5,67,7],[1,2,3]]) \n",
    "a.shape\n",
    "# b.shape\n",
    "\n",
    "\n",
    "# len(b)\n",
    "len(a)\n",
    "\n",
    "a.ndim\n",
    "b.ndim"
   ]
  }
 ],
 "metadata": {
  "kernelspec": {
   "display_name": "Python 3.5.4",
   "language": "python",
   "name": "python3"
  },
  "language_info": {
   "codemirror_mode": {
    "name": "ipython",
    "version": 3
   },
   "file_extension": ".py",
   "mimetype": "text/x-python",
   "name": "python",
   "nbconvert_exporter": "python",
   "pygments_lexer": "ipython3",
   "version": "3.5.4"
  }
 },
 "nbformat": 4,
 "nbformat_minor": 2
}
