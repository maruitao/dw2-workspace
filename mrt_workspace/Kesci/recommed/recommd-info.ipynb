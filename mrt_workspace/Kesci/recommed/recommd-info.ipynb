{
 "cells": [
  {
   "cell_type": "code",
   "execution_count": 1,
   "metadata": {
    "collapsed": true
   },
   "outputs": [],
   "source": [
    "# coding:utf-8   \n",
    "import re\n",
    "import sklearn\n",
    "import pandas as pd\n",
    "import numpy as np\n",
    "import matplotlib.lines as mlines\n",
    "import matplotlib.pyplot as plt\n",
    "import time\n",
    "import pyspark\n",
    "pd.set_option('display.width', 200)\n",
    "\n",
    "train = pd.read_csv('train.csv.zip')\n",
    "test = pd.read_table('test.txt')\n",
    "all_news = pd.read_csv('all_news_info.csv')\n",
    "candidate = pd.read_table('candidate.txt')\n",
    "news_info = pd.read_csv('news_info.csv')\n",
    "submaission = pd.read_table('sample_submission.txt')\n",
    "\n",
    "series_item_id = train.groupby(['item_id'],sort=False ,as_index=False).count()['item_id']\n",
    "series_user_id = train.groupby(['user_id'],sort=False ,as_index=False).count()['user_id']\n",
    "\n",
    "# start = time.clock()   计算pass 处程序 用时\n",
    "  #  pass :\n",
    "# end = time.clock()  \n",
    "# s =  end - start \n",
    "# print 'Second Usage:', s \n",
    "# h = s  / 3600 \n",
    "# m = s  / 60 \n",
    "# print 'Time Usage:',\"%02d:%02d:%02d\" % (h, m, s)\n",
    "# train  #user_id  item_id   cate_id  action_type  action_time "
   ]
  },
  {
   "cell_type": "code",
   "execution_count": 2,
   "metadata": {
    "collapsed": true
   },
   "outputs": [],
   "source": [
    "# train  \n",
    "# test \n",
    "# all_news\n",
    "# candidate\n",
    "# submaission\n",
    "# news_info"
   ]
  },
  {
   "cell_type": "code",
   "execution_count": null,
   "metadata": {
    "collapsed": true
   },
   "outputs": [],
   "source": [
    "# train.groupby(['user_id','item_id'], sort=False).groups  # 生成index为 （user_id, item_id） \n",
    "\n",
    "# train.groupby('user_id',sort=False).item_id.agg(lambda x: len(x)).reset_index() # 每个uid 对应访问item_id 的总次数  也是cate_id总次数  Tp:Df\n",
    "# train.groupby('user_id', sort=False, as_index=False).item_id.count()    # 和上一行 等效  \n",
    "# train.groupby('user_id', sort=False, as_index=False).cate_id.agg(lambda x :list(x))    #每个user_id  对应list(cate_id)     Tp: Series\n",
    "# train.groupby('user_id', sort=False).item_id.agg(lambda x :list(x))    #Tp: Series   \n",
    "# train.groupby('user_id', sort=False, as_index=False).item_id.agg(lambda x :list(x))\n",
    "# train.groupby(['user_id','item_id'], sort=False).count().reset_index()  #  返回结果DataFrame\n",
    "# train.groupby('user_id',as_index=False)\n",
    "\n",
    "#  test spark proformance \n",
    "\n",
    "df = pd.DataFrame(columns=series_item_id, index=series_user_id)\n",
    "df\n",
    "# list_user_id = train.groupby(['item_id'],sort=False ,as_index=False).count().reset_index()['item_id']\n",
    "# print (df['item_id'])  # \n",
    "# train\n",
    "# df2\n",
    "\n",
    "# train['item_id']\n",
    "# train['user_id']\n",
    "\n",
    "# pd.DataFrame(columns=train['item_id'] , index=train['user_id'] )  # 构建df 行 列 都300W   内核会崩！\n",
    "\n",
    "\n",
    "# groupby('user_id') 聚合后  item_list = []\n",
    "# def count_items_by_user(item_list):\n",
    "#     reuslt = {}\n",
    "#     for val in item_list:\n",
    "        \n",
    "    \n",
    "\n",
    "# grouped = train.groupby('user_id', sort=False , as_index=False)\n",
    "# grouped['item_id'].agg([, np.mean , np.std])"
   ]
  },
  {
   "cell_type": "code",
   "execution_count": null,
   "metadata": {
    "collapsed": true
   },
   "outputs": [],
   "source": []
  }
 ],
 "metadata": {
  "kernelspec": {
   "display_name": "Python 3.5.4",
   "language": "python",
   "name": "python3"
  },
  "language_info": {
   "codemirror_mode": {
    "name": "ipython",
    "version": 3
   },
   "file_extension": ".py",
   "mimetype": "text/x-python",
   "name": "python",
   "nbconvert_exporter": "python",
   "pygments_lexer": "ipython3",
   "version": "3.5.4"
  }
 },
 "nbformat": 4,
 "nbformat_minor": 2
}
